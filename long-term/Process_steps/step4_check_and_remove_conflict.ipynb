{
 "cells": [
  {
   "cell_type": "code",
   "execution_count": 1,
   "metadata": {},
   "outputs": [],
   "source": [
    "import argparse\n",
    "import os\n",
    "import sys\n",
    "import psutil\n",
    "import numpy as np\n",
    "import pandas as pd\n",
    "import matplotlib\n",
    "matplotlib.use('Agg')\n",
    "import matplotlib.pyplot as plt\n",
    "#from datetime import datetime\n",
    "import math\n",
    "from IPython.display import display\n",
    "from multiprocessing import cpu_count,Pool \n",
    "import multiprocessing\n",
    "from joblib import Parallel, delayed\n",
    "from orderedset import OrderedSet\n",
    "import datetime"
   ]
  },
  {
   "cell_type": "code",
   "execution_count": 2,
   "metadata": {},
   "outputs": [],
   "source": [
    "long_event = pd.read_hdf('../../long_events_.h5',key='LN_300')"
   ]
  },
  {
   "cell_type": "code",
   "execution_count": 3,
   "metadata": {},
   "outputs": [],
   "source": [
    "def distance(data,lat,lng,idx):\n",
    "    fLat = np.radians(data.LocationLat)\n",
    "    fLon = np.radians(data.LocationLng)\n",
    "    sLat = np.radians(lat)\n",
    "    sLon = np.radians(lng)\n",
    "    R = 3958.7564 #mi\n",
    "    #R = 6371000.0 #meters\n",
    "    #R = 6371.0 #km\n",
    "    \n",
    "    dLon = sLon - fLon\n",
    "    dLat = sLat - fLat\n",
    "    a = np.sin(dLat/2.0)**2 + (np.cos(fLat) * np.cos(sLat) * np.power(np.sin(dLon/2.0), 2))\n",
    "    \n",
    "    c = 2.0 * np.arctan2(np.sqrt(a), np.sqrt(1.0 - a))\n",
    "    #data['dis2event_'+str(idx)] =  \n",
    "    return R * c\n",
    "    #return data"
   ]
  },
  {
   "cell_type": "code",
   "execution_count": 4,
   "metadata": {},
   "outputs": [],
   "source": [
    "def check(data,filepath,key):    \n",
    "    counter=1\n",
    "    drop_index=[]\n",
    "    long_events_ = pd.read_hdf(filepath,key=key)\n",
    "    for idx,long_event in data.iterrows():\n",
    "                    collision = data[(long_events_.EventId != long_event.EventId ) & (long_events_.State ==  long_event.State)\n",
    "                                & \n",
    "                                (((long_events_.StartTime >= long_event.StartTime) &\n",
    "                                    (long_events_.EndTime <= long_event.EndTime))\n",
    "                                    |\n",
    "                                    ((long_events_.StartTime < long_event.StartTime) &\n",
    "                                    (long_events_.EndTime > long_event.StartTime)) \n",
    "                                    |\n",
    "                                    ((long_events_.StartTime < long_event.EndTime) &\n",
    "                                    (long_events_.EndTime > long_event.EndTime))\n",
    "                                    |\n",
    "                                    ((long_events_.StartTime < long_event.StartTime) &\n",
    "                                    (long_events_.EndTime > long_event.EndTime)))\n",
    "                                ]\n",
    "\n",
    "                    if long_event.Type == 'W':\n",
    "                        collision = collision[collision.AirportCode == long_event.AirportCode]\n",
    "\n",
    "                    elif long_event.Type != 'W':\n",
    "                        collison_W = collision[(collision.Type=='W')&(collision.AirportCode == long_event.AirportCode)]\n",
    "                        collision_T = collision[collision.Type!='W']\n",
    "                        collision_T = collision_T.assign(distance=pd.Series(\n",
    "                            distance(collision_T,long_event.LocationLat,long_event.LocationLng,idx)).values)\n",
    "                        if 'distance' not in collision_T.columns:\n",
    "                            print ('error')\n",
    "                        collision_T = collision_T [(collision_T.distance <=raduis)]\n",
    "                        collision = pd.concat([collison_W,collision_T])\n",
    "                    else:\n",
    "                        print ('error: event type ',long_event.Type)\n",
    "                        raise()\n",
    "                    if not collision.empty:\n",
    "                        counter+=1\n",
    "                        drop_index.append(idx)\n",
    "                    \n",
    "    return drop_index"
   ]
  },
  {
   "cell_type": "code",
   "execution_count": 5,
   "metadata": {},
   "outputs": [],
   "source": [
    "class WithExtraArgs(object):\n",
    "    def __init__(self, func, **args):\n",
    "        self.func = func\n",
    "        self.args = args\n",
    "    def __call__(self, df):\n",
    "        return self.func(df, **self.args)\n",
    "def applyParallel_list(pool,data, func, kwargs):\n",
    "    data_split = np.array_split(data,partitions)\n",
    "    data_tag =pool.map(WithExtraArgs(func, **kwargs), data_split)\n",
    "    return data_tag\n",
    "\n",
    "def parallelize(data, func,pool):\n",
    "    data_split = np.array_split(data, partitions)\n",
    "    df = pool.map(func, data_split)\n",
    "    return df"
   ]
  },
  {
   "cell_type": "code",
   "execution_count": 6,
   "metadata": {},
   "outputs": [
    {
     "name": "stdout",
     "output_type": "stream",
     "text": [
      "number of cores 28\n"
     ]
    }
   ],
   "source": [
    "raduis = 14 # mi\n",
    "\n",
    "cores = cpu_count() #Number of CPU cores on your system\n",
    "partitions = cores #Define as many partitions as you want\n",
    "print (\"number of cores \"+str(partitions))"
   ]
  },
  {
   "cell_type": "code",
   "execution_count": 7,
   "metadata": {},
   "outputs": [
    {
     "name": "stderr",
     "output_type": "stream",
     "text": [
      "/usr/local/anaconda5/lib/python3.6/site-packages/ipykernel_launcher.py:18: UserWarning: Boolean Series key will be reindexed to match DataFrame index.\n",
      "/usr/local/anaconda5/lib/python3.6/site-packages/ipykernel_launcher.py:18: UserWarning: Boolean Series key will be reindexed to match DataFrame index.\n",
      "/usr/local/anaconda5/lib/python3.6/site-packages/ipykernel_launcher.py:18: UserWarning: Boolean Series key will be reindexed to match DataFrame index.\n",
      "/usr/local/anaconda5/lib/python3.6/site-packages/ipykernel_launcher.py:18: UserWarning: Boolean Series key will be reindexed to match DataFrame index.\n",
      "/usr/local/anaconda5/lib/python3.6/site-packages/ipykernel_launcher.py:18: UserWarning: Boolean Series key will be reindexed to match DataFrame index.\n",
      "/usr/local/anaconda5/lib/python3.6/site-packages/ipykernel_launcher.py:18: UserWarning: Boolean Series key will be reindexed to match DataFrame index.\n",
      "/usr/local/anaconda5/lib/python3.6/site-packages/ipykernel_launcher.py:18: UserWarning: Boolean Series key will be reindexed to match DataFrame index.\n",
      "/usr/local/anaconda5/lib/python3.6/site-packages/ipykernel_launcher.py:18: UserWarning: Boolean Series key will be reindexed to match DataFrame index.\n",
      "/usr/local/anaconda5/lib/python3.6/site-packages/ipykernel_launcher.py:18: UserWarning: Boolean Series key will be reindexed to match DataFrame index.\n",
      "/usr/local/anaconda5/lib/python3.6/site-packages/ipykernel_launcher.py:18: UserWarning: Boolean Series key will be reindexed to match DataFrame index.\n",
      "/usr/local/anaconda5/lib/python3.6/site-packages/ipykernel_launcher.py:18: UserWarning: Boolean Series key will be reindexed to match DataFrame index.\n",
      "/usr/local/anaconda5/lib/python3.6/site-packages/ipykernel_launcher.py:18: UserWarning: Boolean Series key will be reindexed to match DataFrame index.\n",
      "/usr/local/anaconda5/lib/python3.6/site-packages/ipykernel_launcher.py:18: UserWarning: Boolean Series key will be reindexed to match DataFrame index.\n",
      "/usr/local/anaconda5/lib/python3.6/site-packages/ipykernel_launcher.py:18: UserWarning: Boolean Series key will be reindexed to match DataFrame index.\n",
      "/usr/local/anaconda5/lib/python3.6/site-packages/ipykernel_launcher.py:18: UserWarning: Boolean Series key will be reindexed to match DataFrame index.\n",
      "/usr/local/anaconda5/lib/python3.6/site-packages/ipykernel_launcher.py:18: UserWarning: Boolean Series key will be reindexed to match DataFrame index.\n",
      "/usr/local/anaconda5/lib/python3.6/site-packages/ipykernel_launcher.py:18: UserWarning: Boolean Series key will be reindexed to match DataFrame index.\n",
      "/usr/local/anaconda5/lib/python3.6/site-packages/ipykernel_launcher.py:18: UserWarning: Boolean Series key will be reindexed to match DataFrame index.\n",
      "/usr/local/anaconda5/lib/python3.6/site-packages/ipykernel_launcher.py:18: UserWarning: Boolean Series key will be reindexed to match DataFrame index.\n",
      "/usr/local/anaconda5/lib/python3.6/site-packages/ipykernel_launcher.py:18: UserWarning: Boolean Series key will be reindexed to match DataFrame index.\n",
      "/usr/local/anaconda5/lib/python3.6/site-packages/ipykernel_launcher.py:18: UserWarning: Boolean Series key will be reindexed to match DataFrame index.\n",
      "/usr/local/anaconda5/lib/python3.6/site-packages/ipykernel_launcher.py:18: UserWarning: Boolean Series key will be reindexed to match DataFrame index.\n",
      "/usr/local/anaconda5/lib/python3.6/site-packages/ipykernel_launcher.py:18: UserWarning: Boolean Series key will be reindexed to match DataFrame index.\n",
      "/usr/local/anaconda5/lib/python3.6/site-packages/ipykernel_launcher.py:18: UserWarning: Boolean Series key will be reindexed to match DataFrame index.\n",
      "/usr/local/anaconda5/lib/python3.6/site-packages/ipykernel_launcher.py:18: UserWarning: Boolean Series key will be reindexed to match DataFrame index.\n",
      "/usr/local/anaconda5/lib/python3.6/site-packages/ipykernel_launcher.py:18: UserWarning: Boolean Series key will be reindexed to match DataFrame index.\n",
      "/usr/local/anaconda5/lib/python3.6/site-packages/ipykernel_launcher.py:18: UserWarning: Boolean Series key will be reindexed to match DataFrame index.\n",
      "/usr/local/anaconda5/lib/python3.6/site-packages/ipykernel_launcher.py:18: UserWarning: Boolean Series key will be reindexed to match DataFrame index.\n"
     ]
    }
   ],
   "source": [
    "pool = Pool(cores)\n",
    "drop =  applyParallel_list(pool,long_event,check,{'filepath': '../../long_events_.h5', 'key':'LN_300'})\n",
    "pool.close()\n",
    "pool.join()"
   ]
  },
  {
   "cell_type": "code",
   "execution_count": 8,
   "metadata": {},
   "outputs": [
    {
     "name": "stdout",
     "output_type": "stream",
     "text": [
      "28\n"
     ]
    }
   ],
   "source": [
    "print (len(drop))"
   ]
  },
  {
   "cell_type": "code",
   "execution_count": 9,
   "metadata": {},
   "outputs": [
    {
     "name": "stdout",
     "output_type": "stream",
     "text": [
      "7916\n"
     ]
    }
   ],
   "source": [
    "temp = []\n",
    "for l in drop:\n",
    "    temp+=l\n",
    "print (len(temp))\n",
    "drop_ = temp"
   ]
  },
  {
   "cell_type": "code",
   "execution_count": 10,
   "metadata": {},
   "outputs": [],
   "source": [
    "long_event_drop1 = long_event.drop(drop_)"
   ]
  },
  {
   "cell_type": "code",
   "execution_count": 11,
   "metadata": {},
   "outputs": [
    {
     "name": "stdout",
     "output_type": "stream",
     "text": [
      "7916\n"
     ]
    }
   ],
   "source": [
    "print (len(long_event)-len(long_event_drop1))"
   ]
  },
  {
   "cell_type": "code",
   "execution_count": 13,
   "metadata": {},
   "outputs": [
    {
     "data": {
      "text/plain": [
       "EventId         T-7438946_T-7438947_T-7438948_T-7439427_T-7439428\n",
       "Type                                                            T\n",
       "RefinedType_                                         Construction\n",
       "StartTime                                     2018-05-15 13:51:48\n",
       "EndTime                                       2018-05-31 04:59:00\n",
       "LocationLat                                               34.7013\n",
       "LocationLng                                              -86.6828\n",
       "Distance(mi)                                                 8.77\n",
       "AirportCode                                                  KHUA\n",
       "Number                                                      30745\n",
       "Street                                              US Highway 72\n",
       "Side                                                            L\n",
       "City                                                      Madison\n",
       "County                                                  Limestone\n",
       "State                                                          AL\n",
       "ZipCode                                                     35757\n",
       "RefinedType                                          Construction\n",
       "duration                                                  22507.2\n",
       "Name: 8281096, dtype: object"
      ]
     },
     "execution_count": 13,
     "metadata": {},
     "output_type": "execute_result"
    }
   ],
   "source": [
    "long_event.loc[drop_[0]]"
   ]
  },
  {
   "cell_type": "code",
   "execution_count": 14,
   "metadata": {},
   "outputs": [
    {
     "data": {
      "text/plain": [
       "EventId         T-7439431_T-7439432_T-7439433\n",
       "Type                                        T\n",
       "RefinedType_                     Construction\n",
       "StartTime                 2018-05-15 14:02:50\n",
       "EndTime                   2018-05-31 04:59:00\n",
       "LocationLat                           34.6423\n",
       "LocationLng                          -86.5325\n",
       "Distance(mi)                             6.84\n",
       "AirportCode                              KHUA\n",
       "Number                                    NaN\n",
       "Street                       Memorial Pkwy SW\n",
       "Side                                        R\n",
       "City                               Huntsville\n",
       "County                                Madison\n",
       "State                                      AL\n",
       "ZipCode                                 35803\n",
       "RefinedType                      Construction\n",
       "duration                              22496.2\n",
       "Name: 8281577, dtype: object"
      ]
     },
     "execution_count": 14,
     "metadata": {},
     "output_type": "execute_result"
    }
   ],
   "source": [
    "long_event.loc[drop_[1]]"
   ]
  },
  {
   "cell_type": "code",
   "execution_count": 16,
   "metadata": {},
   "outputs": [
    {
     "name": "stderr",
     "output_type": "stream",
     "text": [
      "/usr/local/anaconda5/lib/python3.6/site-packages/pandas/core/generic.py:1299: PerformanceWarning: \n",
      "your performance may suffer as PyTables will pickle object types that it cannot\n",
      "map directly to c-types [inferred_type->mixed,key->block2_values] [items->['EventId', 'Type', 'RefinedType_', 'AirportCode', 'Street', 'Side', 'City', 'County', 'State', 'RefinedType']]\n",
      "\n",
      "  return pytables.to_hdf(path_or_buf, key, self, **kwargs)\n"
     ]
    }
   ],
   "source": [
    "long_event_drop1.to_hdf('../../long_events_.h5',key='LN_300_nc1')"
   ]
  },
  {
   "cell_type": "code",
   "execution_count": 17,
   "metadata": {},
   "outputs": [
    {
     "name": "stderr",
     "output_type": "stream",
     "text": [
      "/usr/local/anaconda5/lib/python3.6/site-packages/ipykernel_launcher.py:18: UserWarning: Boolean Series key will be reindexed to match DataFrame index.\n",
      "/usr/local/anaconda5/lib/python3.6/site-packages/ipykernel_launcher.py:18: UserWarning: Boolean Series key will be reindexed to match DataFrame index.\n",
      "/usr/local/anaconda5/lib/python3.6/site-packages/ipykernel_launcher.py:18: UserWarning: Boolean Series key will be reindexed to match DataFrame index.\n",
      "/usr/local/anaconda5/lib/python3.6/site-packages/ipykernel_launcher.py:18: UserWarning: Boolean Series key will be reindexed to match DataFrame index.\n",
      "/usr/local/anaconda5/lib/python3.6/site-packages/ipykernel_launcher.py:18: UserWarning: Boolean Series key will be reindexed to match DataFrame index.\n",
      "/usr/local/anaconda5/lib/python3.6/site-packages/ipykernel_launcher.py:18: UserWarning: Boolean Series key will be reindexed to match DataFrame index.\n",
      "/usr/local/anaconda5/lib/python3.6/site-packages/ipykernel_launcher.py:18: UserWarning: Boolean Series key will be reindexed to match DataFrame index.\n",
      "/usr/local/anaconda5/lib/python3.6/site-packages/ipykernel_launcher.py:18: UserWarning: Boolean Series key will be reindexed to match DataFrame index.\n",
      "/usr/local/anaconda5/lib/python3.6/site-packages/ipykernel_launcher.py:18: UserWarning: Boolean Series key will be reindexed to match DataFrame index.\n",
      "/usr/local/anaconda5/lib/python3.6/site-packages/ipykernel_launcher.py:18: UserWarning: Boolean Series key will be reindexed to match DataFrame index.\n",
      "/usr/local/anaconda5/lib/python3.6/site-packages/ipykernel_launcher.py:18: UserWarning: Boolean Series key will be reindexed to match DataFrame index.\n",
      "/usr/local/anaconda5/lib/python3.6/site-packages/ipykernel_launcher.py:18: UserWarning: Boolean Series key will be reindexed to match DataFrame index.\n",
      "/usr/local/anaconda5/lib/python3.6/site-packages/ipykernel_launcher.py:18: UserWarning: Boolean Series key will be reindexed to match DataFrame index.\n",
      "/usr/local/anaconda5/lib/python3.6/site-packages/ipykernel_launcher.py:18: UserWarning: Boolean Series key will be reindexed to match DataFrame index.\n",
      "/usr/local/anaconda5/lib/python3.6/site-packages/ipykernel_launcher.py:18: UserWarning: Boolean Series key will be reindexed to match DataFrame index.\n",
      "/usr/local/anaconda5/lib/python3.6/site-packages/ipykernel_launcher.py:18: UserWarning: Boolean Series key will be reindexed to match DataFrame index.\n",
      "/usr/local/anaconda5/lib/python3.6/site-packages/ipykernel_launcher.py:18: UserWarning: Boolean Series key will be reindexed to match DataFrame index.\n",
      "/usr/local/anaconda5/lib/python3.6/site-packages/ipykernel_launcher.py:18: UserWarning: Boolean Series key will be reindexed to match DataFrame index.\n",
      "/usr/local/anaconda5/lib/python3.6/site-packages/ipykernel_launcher.py:18: UserWarning: Boolean Series key will be reindexed to match DataFrame index.\n",
      "/usr/local/anaconda5/lib/python3.6/site-packages/ipykernel_launcher.py:18: UserWarning: Boolean Series key will be reindexed to match DataFrame index.\n",
      "/usr/local/anaconda5/lib/python3.6/site-packages/ipykernel_launcher.py:18: UserWarning: Boolean Series key will be reindexed to match DataFrame index.\n",
      "/usr/local/anaconda5/lib/python3.6/site-packages/ipykernel_launcher.py:18: UserWarning: Boolean Series key will be reindexed to match DataFrame index.\n",
      "/usr/local/anaconda5/lib/python3.6/site-packages/ipykernel_launcher.py:18: UserWarning: Boolean Series key will be reindexed to match DataFrame index.\n",
      "/usr/local/anaconda5/lib/python3.6/site-packages/ipykernel_launcher.py:18: UserWarning: Boolean Series key will be reindexed to match DataFrame index.\n",
      "/usr/local/anaconda5/lib/python3.6/site-packages/ipykernel_launcher.py:18: UserWarning: Boolean Series key will be reindexed to match DataFrame index.\n",
      "/usr/local/anaconda5/lib/python3.6/site-packages/ipykernel_launcher.py:18: UserWarning: Boolean Series key will be reindexed to match DataFrame index.\n",
      "/usr/local/anaconda5/lib/python3.6/site-packages/ipykernel_launcher.py:18: UserWarning: Boolean Series key will be reindexed to match DataFrame index.\n",
      "/usr/local/anaconda5/lib/python3.6/site-packages/ipykernel_launcher.py:18: UserWarning: Boolean Series key will be reindexed to match DataFrame index.\n"
     ]
    }
   ],
   "source": [
    "pool = Pool(cores)\n",
    "drop = applyParallel_list(pool,long_event_drop1,check,{'filepath': '../../long_events_.h5', 'key':'LN_300_nc1'})\n",
    "pool.close()\n",
    "pool.join()"
   ]
  },
  {
   "cell_type": "code",
   "execution_count": 18,
   "metadata": {},
   "outputs": [
    {
     "name": "stdout",
     "output_type": "stream",
     "text": [
      "[[], [], [13634736, 13632572], [13034803, 13035373], [6794518, 5752887, 549357, 5462940, 9277706, 5454000, 549938, 5752062, 10780925, 10748864, 9278077, 3850037, 5463024, 5453986, 6890709], [], [], [], [], [3871141, 5744668, 9153925, 4498504, 746687, 4498859, 5745336, 5747126, 745838], [4430830, 9186224, 3277338, 1712866, 2108839, 1712888, 563215, 1183097, 2171719, 8456330, 3277820, 4426668, 3278374, 3266764, 3266979, 3277444, 3266095, 4426941, 3285054, 4430962, 8456343, 9214274], [], [], [], [], [], [], [11654123, 12770404, 10222206, 3380308, 790151, 7267095, 9317007, 4949304, 8653974, 5423339, 7605470, 9051505, 9082292, 1963946, 1028962, 1970112, 3382217, 7605353, 5424168, 10835508, 4949438, 9080050, 8678054, 9080049], [3501552, 3489821, 3509188, 3506765, 3509823, 3490663, 3501657, 5673863, 5673859, 3501769, 5673866, 3506932, 3510157, 3490854], [10132771, 13811270, 13715898, 15315585, 13846587, 13811535, 11590617], [9319963, 7183045, 6482703, 6572992, 3998799, 11631761, 10543875, 14373056, 6524139, 5456680, 8186572, 9989131, 6520999, 6177061, 6150324, 1755171, 5043641, 9316991, 9316982, 6177060, 3993788, 14673397, 10513222, 2158387, 14410332, 11692983, 6521010, 6524405, 5043757, 1660389, 5456788, 8183741, 6149621, 8293413, 6763144, 9990848], [4903252, 4903129], [5512382, 10128568, 10872976, 13713351, 12764903, 5773452, 13207089, 4210452, 10128423, 4051068, 11103671, 5089027, 1033934, 8635412, 9368536, 6556240, 6556235, 10556514, 5105269, 9334660, 12810880, 14893680, 4210476, 12124350, 8635404, 4132011, 5516617, 9594472, 11367452, 13497221, 6201319, 10271372, 14981600], [5518607, 5079386, 10591389, 4519561, 11649288, 11104699, 6557092, 4519480, 11649376, 11104716, 6557101, 5079285, 5519029, 10591509], [7357895, 8331376, 816526, 13908844, 15009091, 951327, 10433776, 7492834, 6187209, 15008771, 13907686, 8270978], [4250685, 6542922, 6241483, 2002318, 1985757, 8142515, 1913370, 4281648, 4291420, 6542966, 1987323, 8142573, 2001291, 268453, 6242473, 10052742], [691497, 8029616, 10127288, 8029550, 10127276, 10492306], []]\n"
     ]
    }
   ],
   "source": [
    "print (drop)"
   ]
  },
  {
   "cell_type": "code",
   "execution_count": 20,
   "metadata": {},
   "outputs": [
    {
     "name": "stdout",
     "output_type": "stream",
     "text": [
      "214\n"
     ]
    }
   ],
   "source": [
    "temp2 = []\n",
    "for l in drop:\n",
    "    temp2+=l\n",
    "print (len(temp2))\n",
    "drop_2 = temp2"
   ]
  },
  {
   "cell_type": "code",
   "execution_count": 29,
   "metadata": {},
   "outputs": [],
   "source": [
    "con1=long_event_drop1.loc[drop_2[0]]"
   ]
  },
  {
   "cell_type": "code",
   "execution_count": 33,
   "metadata": {},
   "outputs": [],
   "source": [
    "con2=long_event_drop1.loc[drop_2[1]]"
   ]
  },
  {
   "cell_type": "code",
   "execution_count": 34,
   "metadata": {},
   "outputs": [
    {
     "name": "stdout",
     "output_type": "stream",
     "text": [
      "yes\n"
     ]
    }
   ],
   "source": [
    "if con2.StartTime < con1.StartTime and con2.EndTime > con1.StartTime:\n",
    "    print ('yes')"
   ]
  },
  {
   "cell_type": "code",
   "execution_count": 35,
   "metadata": {},
   "outputs": [],
   "source": [
    "long_event_drop2 = long_event_drop1.drop(drop_2)"
   ]
  },
  {
   "cell_type": "code",
   "execution_count": 37,
   "metadata": {},
   "outputs": [
    {
     "name": "stdout",
     "output_type": "stream",
     "text": [
      "214\n"
     ]
    }
   ],
   "source": [
    "print (len(long_event_drop1)-len(long_event_drop2))"
   ]
  },
  {
   "cell_type": "code",
   "execution_count": 38,
   "metadata": {},
   "outputs": [
    {
     "name": "stderr",
     "output_type": "stream",
     "text": [
      "/usr/local/anaconda5/lib/python3.6/site-packages/pandas/core/generic.py:1299: PerformanceWarning: \n",
      "your performance may suffer as PyTables will pickle object types that it cannot\n",
      "map directly to c-types [inferred_type->mixed,key->block2_values] [items->['EventId', 'Type', 'RefinedType_', 'AirportCode', 'Street', 'Side', 'City', 'County', 'State', 'RefinedType']]\n",
      "\n",
      "  return pytables.to_hdf(path_or_buf, key, self, **kwargs)\n"
     ]
    }
   ],
   "source": [
    "long_event_drop2.to_hdf('../../long_events_.h5',key='LN_300_nc2')"
   ]
  },
  {
   "cell_type": "code",
   "execution_count": 39,
   "metadata": {},
   "outputs": [
    {
     "name": "stderr",
     "output_type": "stream",
     "text": [
      "/usr/local/anaconda5/lib/python3.6/site-packages/ipykernel_launcher.py:18: UserWarning: Boolean Series key will be reindexed to match DataFrame index.\n",
      "/usr/local/anaconda5/lib/python3.6/site-packages/ipykernel_launcher.py:18: UserWarning: Boolean Series key will be reindexed to match DataFrame index.\n",
      "/usr/local/anaconda5/lib/python3.6/site-packages/ipykernel_launcher.py:18: UserWarning: Boolean Series key will be reindexed to match DataFrame index.\n",
      "/usr/local/anaconda5/lib/python3.6/site-packages/ipykernel_launcher.py:18: UserWarning: Boolean Series key will be reindexed to match DataFrame index.\n",
      "/usr/local/anaconda5/lib/python3.6/site-packages/ipykernel_launcher.py:18: UserWarning: Boolean Series key will be reindexed to match DataFrame index.\n",
      "/usr/local/anaconda5/lib/python3.6/site-packages/ipykernel_launcher.py:18: UserWarning: Boolean Series key will be reindexed to match DataFrame index.\n",
      "/usr/local/anaconda5/lib/python3.6/site-packages/ipykernel_launcher.py:18: UserWarning: Boolean Series key will be reindexed to match DataFrame index.\n",
      "/usr/local/anaconda5/lib/python3.6/site-packages/ipykernel_launcher.py:18: UserWarning: Boolean Series key will be reindexed to match DataFrame index.\n",
      "/usr/local/anaconda5/lib/python3.6/site-packages/ipykernel_launcher.py:18: UserWarning: Boolean Series key will be reindexed to match DataFrame index.\n",
      "/usr/local/anaconda5/lib/python3.6/site-packages/ipykernel_launcher.py:18: UserWarning: Boolean Series key will be reindexed to match DataFrame index.\n",
      "/usr/local/anaconda5/lib/python3.6/site-packages/ipykernel_launcher.py:18: UserWarning: Boolean Series key will be reindexed to match DataFrame index.\n",
      "/usr/local/anaconda5/lib/python3.6/site-packages/ipykernel_launcher.py:18: UserWarning: Boolean Series key will be reindexed to match DataFrame index.\n",
      "/usr/local/anaconda5/lib/python3.6/site-packages/ipykernel_launcher.py:18: UserWarning: Boolean Series key will be reindexed to match DataFrame index.\n",
      "/usr/local/anaconda5/lib/python3.6/site-packages/ipykernel_launcher.py:18: UserWarning: Boolean Series key will be reindexed to match DataFrame index.\n",
      "/usr/local/anaconda5/lib/python3.6/site-packages/ipykernel_launcher.py:18: UserWarning: Boolean Series key will be reindexed to match DataFrame index.\n",
      "/usr/local/anaconda5/lib/python3.6/site-packages/ipykernel_launcher.py:18: UserWarning: Boolean Series key will be reindexed to match DataFrame index.\n",
      "/usr/local/anaconda5/lib/python3.6/site-packages/ipykernel_launcher.py:18: UserWarning: Boolean Series key will be reindexed to match DataFrame index.\n",
      "/usr/local/anaconda5/lib/python3.6/site-packages/ipykernel_launcher.py:18: UserWarning: Boolean Series key will be reindexed to match DataFrame index.\n",
      "/usr/local/anaconda5/lib/python3.6/site-packages/ipykernel_launcher.py:18: UserWarning: Boolean Series key will be reindexed to match DataFrame index.\n",
      "/usr/local/anaconda5/lib/python3.6/site-packages/ipykernel_launcher.py:18: UserWarning: Boolean Series key will be reindexed to match DataFrame index.\n",
      "/usr/local/anaconda5/lib/python3.6/site-packages/ipykernel_launcher.py:18: UserWarning: Boolean Series key will be reindexed to match DataFrame index.\n",
      "/usr/local/anaconda5/lib/python3.6/site-packages/ipykernel_launcher.py:18: UserWarning: Boolean Series key will be reindexed to match DataFrame index.\n",
      "/usr/local/anaconda5/lib/python3.6/site-packages/ipykernel_launcher.py:18: UserWarning: Boolean Series key will be reindexed to match DataFrame index.\n",
      "/usr/local/anaconda5/lib/python3.6/site-packages/ipykernel_launcher.py:18: UserWarning: Boolean Series key will be reindexed to match DataFrame index.\n",
      "/usr/local/anaconda5/lib/python3.6/site-packages/ipykernel_launcher.py:18: UserWarning: Boolean Series key will be reindexed to match DataFrame index.\n",
      "/usr/local/anaconda5/lib/python3.6/site-packages/ipykernel_launcher.py:18: UserWarning: Boolean Series key will be reindexed to match DataFrame index.\n",
      "/usr/local/anaconda5/lib/python3.6/site-packages/ipykernel_launcher.py:18: UserWarning: Boolean Series key will be reindexed to match DataFrame index.\n",
      "/usr/local/anaconda5/lib/python3.6/site-packages/ipykernel_launcher.py:18: UserWarning: Boolean Series key will be reindexed to match DataFrame index.\n"
     ]
    }
   ],
   "source": [
    "pool = Pool(cores)\n",
    "drop = applyParallel_list(pool,long_event_drop2,check,{'filepath': '../../long_events_.h5', 'key':'LN_300_nc2'})\n",
    "pool.close()\n",
    "pool.join()"
   ]
  },
  {
   "cell_type": "code",
   "execution_count": 40,
   "metadata": {},
   "outputs": [
    {
     "name": "stdout",
     "output_type": "stream",
     "text": [
      "[[], [], [], [], [], [], [], [], [], [], [], [], [], [], [], [], [], [], [], [], [], [], [], [], [], [], [], []]\n"
     ]
    }
   ],
   "source": [
    "print (drop)"
   ]
  },
  {
   "cell_type": "code",
   "execution_count": 41,
   "metadata": {},
   "outputs": [
    {
     "name": "stdout",
     "output_type": "stream",
     "text": [
      "0\n"
     ]
    }
   ],
   "source": [
    "temp3 = []\n",
    "for l in drop:\n",
    "    temp3+=l\n",
    "print (len(temp3))\n",
    "drop_3 = temp3"
   ]
  },
  {
   "cell_type": "code",
   "execution_count": 42,
   "metadata": {},
   "outputs": [],
   "source": [
    "In_LN = pd.read_hdf('../../long_events.h5',key='LN_300')"
   ]
  },
  {
   "cell_type": "code",
   "execution_count": 44,
   "metadata": {},
   "outputs": [
    {
     "data": {
      "text/plain": [
       "280649"
      ]
     },
     "execution_count": 44,
     "metadata": {},
     "output_type": "execute_result"
    }
   ],
   "source": [
    "len(In_LN)"
   ]
  },
  {
   "cell_type": "code",
   "execution_count": 43,
   "metadata": {},
   "outputs": [],
   "source": [
    "data_set = pd.read_hdf('../../data_set.h5',key='DS_new')"
   ]
  },
  {
   "cell_type": "code",
   "execution_count": 45,
   "metadata": {},
   "outputs": [
    {
     "data": {
      "text/plain": [
       "15325090"
      ]
     },
     "execution_count": 45,
     "metadata": {},
     "output_type": "execute_result"
    }
   ],
   "source": [
    "len(data_set)"
   ]
  },
  {
   "cell_type": "code",
   "execution_count": 47,
   "metadata": {},
   "outputs": [],
   "source": [
    "\n",
    "new_data_set = data_set.drop(In_LN.index)"
   ]
  },
  {
   "cell_type": "code",
   "execution_count": 48,
   "metadata": {},
   "outputs": [
    {
     "data": {
      "text/plain": [
       "15044441"
      ]
     },
     "execution_count": 48,
     "metadata": {},
     "output_type": "execute_result"
    }
   ],
   "source": [
    "len(new_data_set)"
   ]
  },
  {
   "cell_type": "code",
   "execution_count": 49,
   "metadata": {},
   "outputs": [],
   "source": [
    "new_data_set = new_data_set.append(long_event_drop2)"
   ]
  },
  {
   "cell_type": "code",
   "execution_count": 50,
   "metadata": {},
   "outputs": [
    {
     "data": {
      "text/plain": [
       "15192678"
      ]
     },
     "execution_count": 50,
     "metadata": {},
     "output_type": "execute_result"
    }
   ],
   "source": [
    "len(new_data_set)"
   ]
  },
  {
   "cell_type": "code",
   "execution_count": 52,
   "metadata": {},
   "outputs": [
    {
     "name": "stderr",
     "output_type": "stream",
     "text": [
      "/usr/local/anaconda5/lib/python3.6/site-packages/pandas/core/generic.py:1299: PerformanceWarning: \n",
      "your performance may suffer as PyTables will pickle object types that it cannot\n",
      "map directly to c-types [inferred_type->mixed,key->block2_values] [items->['EventId', 'Type', 'RefinedType_', 'AirportCode', 'Street', 'Side', 'City', 'County', 'State', 'RefinedType']]\n",
      "\n",
      "  return pytables.to_hdf(path_or_buf, key, self, **kwargs)\n"
     ]
    }
   ],
   "source": [
    "new_data_set.to_hdf('../../data_set_.h5',key='DS_300')"
   ]
  },
  {
   "cell_type": "code",
   "execution_count": 53,
   "metadata": {},
   "outputs": [
    {
     "data": {
      "text/plain": [
       "52435.01666666667"
      ]
     },
     "execution_count": 53,
     "metadata": {},
     "output_type": "execute_result"
    }
   ],
   "source": [
    "long_event_drop2.duration.max()"
   ]
  },
  {
   "cell_type": "code",
   "execution_count": 54,
   "metadata": {},
   "outputs": [
    {
     "data": {
      "text/plain": [
       "36.41320601851852"
      ]
     },
     "execution_count": 54,
     "metadata": {},
     "output_type": "execute_result"
    }
   ],
   "source": [
    "52435.01666666667/60/24"
   ]
  },
  {
   "cell_type": "code",
   "execution_count": 55,
   "metadata": {},
   "outputs": [
    {
     "data": {
      "text/plain": [
       "300.0"
      ]
     },
     "execution_count": 55,
     "metadata": {},
     "output_type": "execute_result"
    }
   ],
   "source": [
    "long_event_drop2.duration.min()"
   ]
  },
  {
   "cell_type": "code",
   "execution_count": 56,
   "metadata": {},
   "outputs": [
    {
     "data": {
      "text/plain": [
       "926.9473225308171"
      ]
     },
     "execution_count": 56,
     "metadata": {},
     "output_type": "execute_result"
    }
   ],
   "source": [
    "long_event_drop2.duration.mean()"
   ]
  },
  {
   "cell_type": "code",
   "execution_count": 58,
   "metadata": {},
   "outputs": [
    {
     "data": {
      "text/plain": [
       "[]"
      ]
     },
     "execution_count": 58,
     "metadata": {},
     "output_type": "execute_result"
    }
   ],
   "source": [
    "new_data_set.index.get_duplicates()"
   ]
  },
  {
   "cell_type": "code",
   "execution_count": null,
   "metadata": {},
   "outputs": [],
   "source": []
  }
 ],
 "metadata": {
  "kernelspec": {
   "display_name": "Python 3.6 [python/3.6]",
   "language": "python",
   "name": "sys_python36"
  },
  "language_info": {
   "codemirror_mode": {
    "name": "ipython",
    "version": 3
   },
   "file_extension": ".py",
   "mimetype": "text/x-python",
   "name": "python",
   "nbconvert_exporter": "python",
   "pygments_lexer": "ipython3",
   "version": "3.6.3"
  }
 },
 "nbformat": 4,
 "nbformat_minor": 2
}
