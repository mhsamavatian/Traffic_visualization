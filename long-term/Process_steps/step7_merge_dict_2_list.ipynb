{
 "cells": [
  {
   "cell_type": "code",
   "execution_count": 1,
   "metadata": {},
   "outputs": [],
   "source": [
    "import argparse\n",
    "import os\n",
    "import sys\n",
    "import psutil\n",
    "import numpy as np\n",
    "import pandas as pd\n",
    "import matplotlib\n",
    "matplotlib.use('Agg')\n",
    "import matplotlib.pyplot as plt\n",
    "import math\n",
    "from IPython.display import display\n",
    "from multiprocessing import cpu_count,Pool \n",
    "import multiprocessing\n",
    "from joblib import Parallel, delayed\n",
    "from orderedset import OrderedSet\n",
    "import datetime\n",
    "import pickle\n",
    "import glob"
   ]
  },
  {
   "cell_type": "code",
   "execution_count": 2,
   "metadata": {},
   "outputs": [
    {
     "name": "stdout",
     "output_type": "stream",
     "text": [
      "/users/PAS0536/osu9965/Mohammad/LTP/src/ipython_final/dict_files/\n",
      "/users/PAS0536/osu9965/Mohammad/LTP/src/ipython_final/dict_files/T_split_1_5.pkl\n",
      "/users/PAS0536/osu9965/Mohammad/LTP/src/ipython_final/dict_files/T_split_1_6.pkl\n",
      "/users/PAS0536/osu9965/Mohammad/LTP/src/ipython_final/dict_files/T_split_2_2.pkl\n",
      "/users/PAS0536/osu9965/Mohammad/LTP/src/ipython_final/dict_files/T_split_2_4.pkl\n",
      "/users/PAS0536/osu9965/Mohammad/LTP/src/ipython_final/dict_files/T_split_2_8.pkl\n",
      "/users/PAS0536/osu9965/Mohammad/LTP/src/ipython_final/dict_files/T_split_2_7.pkl\n",
      "/users/PAS0536/osu9965/Mohammad/LTP/src/ipython_final/dict_files/T_split_2_6.pkl\n",
      "/users/PAS0536/osu9965/Mohammad/LTP/src/ipython_final/dict_files/T_split_4_8.pkl\n",
      "/users/PAS0536/osu9965/Mohammad/LTP/src/ipython_final/dict_files/T_split_3_7.pkl\n",
      "/users/PAS0536/osu9965/Mohammad/LTP/src/ipython_final/dict_files/T_split_4_3.pkl\n",
      "/users/PAS0536/osu9965/Mohammad/LTP/src/ipython_final/dict_files/T_split_1_1.pkl\n",
      "/users/PAS0536/osu9965/Mohammad/LTP/src/ipython_final/dict_files/T_split_2_5.pkl\n",
      "/users/PAS0536/osu9965/Mohammad/LTP/src/ipython_final/dict_files/T_split_2_3.pkl\n",
      "/users/PAS0536/osu9965/Mohammad/LTP/src/ipython_final/dict_files/T_split_3_1.pkl\n",
      "/users/PAS0536/osu9965/Mohammad/LTP/src/ipython_final/dict_files/T_split_4_7.pkl\n",
      "/users/PAS0536/osu9965/Mohammad/LTP/src/ipython_final/dict_files/T_split_1_7.pkl\n",
      "/users/PAS0536/osu9965/Mohammad/LTP/src/ipython_final/dict_files/T_split_3_2.pkl\n",
      "/users/PAS0536/osu9965/Mohammad/LTP/src/ipython_final/dict_files/T_split_3_3.pkl\n",
      "/users/PAS0536/osu9965/Mohammad/LTP/src/ipython_final/dict_files/T_split_3_8.pkl\n",
      "/users/PAS0536/osu9965/Mohammad/LTP/src/ipython_final/dict_files/T_split_1_8.pkl\n",
      "/users/PAS0536/osu9965/Mohammad/LTP/src/ipython_final/dict_files/T_split_4_6.pkl\n",
      "/users/PAS0536/osu9965/Mohammad/LTP/src/ipython_final/dict_files/T_split_2_1.pkl\n",
      "/users/PAS0536/osu9965/Mohammad/LTP/src/ipython_final/dict_files/T_split_4_2.pkl\n",
      "/users/PAS0536/osu9965/Mohammad/LTP/src/ipython_final/dict_files/T_split_4_1.pkl\n",
      "/users/PAS0536/osu9965/Mohammad/LTP/src/ipython_final/dict_files/T_split_3_4.pkl\n",
      "/users/PAS0536/osu9965/Mohammad/LTP/src/ipython_final/dict_files/T_split_3_6.pkl\n",
      "/users/PAS0536/osu9965/Mohammad/LTP/src/ipython_final/dict_files/T_split_3_5.pkl\n",
      "/users/PAS0536/osu9965/Mohammad/LTP/src/ipython_final/dict_files/T_split_4_4.pkl\n",
      "/users/PAS0536/osu9965/Mohammad/LTP/src/ipython_final/dict_files/T_split_4_5.pkl\n",
      "/users/PAS0536/osu9965/Mohammad/LTP/src/ipython_final/dict_files/T_split_1_4.pkl\n",
      "/users/PAS0536/osu9965/Mohammad/LTP/src/ipython_final/dict_files/T_split_1_3.pkl\n",
      "/users/PAS0536/osu9965/Mohammad/LTP/src/ipython_final/dict_files/T_split_1_2.pkl\n",
      "/users/PAS0536/osu9965/Mohammad/LTP/src/ipython_final/dict_files/W_split_1_1.pkl\n",
      "/users/PAS0536/osu9965/Mohammad/LTP/src/ipython_final/dict_files/W_split_1_7.pkl\n",
      "/users/PAS0536/osu9965/Mohammad/LTP/src/ipython_final/dict_files/W_split_1_6.pkl\n",
      "/users/PAS0536/osu9965/Mohammad/LTP/src/ipython_final/dict_files/W_split_1_8.pkl\n",
      "/users/PAS0536/osu9965/Mohammad/LTP/src/ipython_final/dict_files/W_split_1_5.pkl\n",
      "/users/PAS0536/osu9965/Mohammad/LTP/src/ipython_final/dict_files/W_split_1_2.pkl\n",
      "/users/PAS0536/osu9965/Mohammad/LTP/src/ipython_final/dict_files/W_split_1_4.pkl\n",
      "/users/PAS0536/osu9965/Mohammad/LTP/src/ipython_final/dict_files/W_split_1_3.pkl\n",
      "/users/PAS0536/osu9965/Mohammad/LTP/src/ipython_final/dict_files/W_split_2_5.pkl\n",
      "/users/PAS0536/osu9965/Mohammad/LTP/src/ipython_final/dict_files/W_split_2_6.pkl\n",
      "/users/PAS0536/osu9965/Mohammad/LTP/src/ipython_final/dict_files/W_split_2_1.pkl\n",
      "/users/PAS0536/osu9965/Mohammad/LTP/src/ipython_final/dict_files/W_split_2_4.pkl\n",
      "/users/PAS0536/osu9965/Mohammad/LTP/src/ipython_final/dict_files/W_split_2_7.pkl\n",
      "/users/PAS0536/osu9965/Mohammad/LTP/src/ipython_final/dict_files/W_split_3_3.pkl\n",
      "/users/PAS0536/osu9965/Mohammad/LTP/src/ipython_final/dict_files/W_split_2_3.pkl\n",
      "/users/PAS0536/osu9965/Mohammad/LTP/src/ipython_final/dict_files/W_split_2_8.pkl\n",
      "/users/PAS0536/osu9965/Mohammad/LTP/src/ipython_final/dict_files/W_split_2_2.pkl\n",
      "/users/PAS0536/osu9965/Mohammad/LTP/src/ipython_final/dict_files/W_split_3_1.pkl\n",
      "/users/PAS0536/osu9965/Mohammad/LTP/src/ipython_final/dict_files/W_split_3_5.pkl\n",
      "/users/PAS0536/osu9965/Mohammad/LTP/src/ipython_final/dict_files/W_split_3_4.pkl\n",
      "/users/PAS0536/osu9965/Mohammad/LTP/src/ipython_final/dict_files/W_split_3_2.pkl\n",
      "/users/PAS0536/osu9965/Mohammad/LTP/src/ipython_final/dict_files/W_split_3_7.pkl\n",
      "/users/PAS0536/osu9965/Mohammad/LTP/src/ipython_final/dict_files/W_split_3_6.pkl\n",
      "/users/PAS0536/osu9965/Mohammad/LTP/src/ipython_final/dict_files/W_split_3_8.pkl\n",
      "/users/PAS0536/osu9965/Mohammad/LTP/src/ipython_final/dict_files/W_split_4_7.pkl\n",
      "/users/PAS0536/osu9965/Mohammad/LTP/src/ipython_final/dict_files/W_split_4_2.pkl\n",
      "/users/PAS0536/osu9965/Mohammad/LTP/src/ipython_final/dict_files/W_split_4_8.pkl\n",
      "/users/PAS0536/osu9965/Mohammad/LTP/src/ipython_final/dict_files/W_split_4_5.pkl\n",
      "/users/PAS0536/osu9965/Mohammad/LTP/src/ipython_final/dict_files/W_split_4_3.pkl\n",
      "/users/PAS0536/osu9965/Mohammad/LTP/src/ipython_final/dict_files/W_split_4_6.pkl\n",
      "/users/PAS0536/osu9965/Mohammad/LTP/src/ipython_final/dict_files/W_split_4_4.pkl\n",
      "/users/PAS0536/osu9965/Mohammad/LTP/src/ipython_final/dict_files/W_split_4_1.pkl\n"
     ]
    }
   ],
   "source": [
    "path = \"dict_files/\"\n",
    "dirpath = os.getcwd()\n",
    "dirpath+='/'+path\n",
    "length=0\n",
    "print (dirpath)\n",
    "final_dict={}\n",
    "for filename in glob.glob(os.path.join(dirpath, '*.pkl')):\n",
    "    print (filename)\n",
    "    temp_dict = pickle.load( open( filename, \"rb\" ))\n",
    "    length+=len(temp_dict)\n",
    "    if temp_dict.keys() & final_dict.keys():\n",
    "        print ('\\t\\t conflict')\n",
    "        #print (temp_dict.keys() & final_dict.keys())\n",
    "    else:\n",
    "        final_dict.update(temp_dict)\n"
   ]
  },
  {
   "cell_type": "code",
   "execution_count": 3,
   "metadata": {},
   "outputs": [],
   "source": [
    "if len(final_dict) != length:\n",
    "    print ('error')"
   ]
  },
  {
   "cell_type": "code",
   "execution_count": 4,
   "metadata": {},
   "outputs": [
    {
     "name": "stdout",
     "output_type": "stream",
     "text": [
      "148237\n",
      "148237\n"
     ]
    }
   ],
   "source": [
    "print (len(final_dict))\n",
    "print (length)\n"
   ]
  },
  {
   "cell_type": "code",
   "execution_count": 5,
   "metadata": {},
   "outputs": [],
   "source": [
    "long_events_ = pd.read_hdf('../../long_events_.h5',key='LN_300_nc2')"
   ]
  },
  {
   "cell_type": "code",
   "execution_count": 6,
   "metadata": {},
   "outputs": [
    {
     "name": "stdout",
     "output_type": "stream",
     "text": [
      "148237\n"
     ]
    }
   ],
   "source": [
    "if long_events_.shape[0] != len(final_dict):\n",
    "    print ('error')\n",
    "print (len(long_events_))"
   ]
  },
  {
   "cell_type": "code",
   "execution_count": 7,
   "metadata": {},
   "outputs": [
    {
     "name": "stdout",
     "output_type": "stream",
     "text": [
      "148237\n"
     ]
    }
   ],
   "source": [
    "final_list=[]\n",
    "for idx,long_event in long_events_.iterrows():\n",
    "    final_list.append(final_dict[idx])\n",
    "print (len(final_list))"
   ]
  },
  {
   "cell_type": "code",
   "execution_count": 8,
   "metadata": {},
   "outputs": [],
   "source": [
    "def splitter(A):\n",
    "    B = A[0:len(A)//2]\n",
    "    C = A[len(A)//2:]\n",
    "\n",
    "    return (B,C)"
   ]
  },
  {
   "cell_type": "code",
   "execution_count": 10,
   "metadata": {},
   "outputs": [],
   "source": [
    "half1,half2 = splitter(final_list)"
   ]
  },
  {
   "cell_type": "code",
   "execution_count": 12,
   "metadata": {},
   "outputs": [
    {
     "data": {
      "text/plain": [
       "148237"
      ]
     },
     "execution_count": 12,
     "metadata": {},
     "output_type": "execute_result"
    }
   ],
   "source": [
    "len(half1)+len(half2)"
   ]
  },
  {
   "cell_type": "code",
   "execution_count": 13,
   "metadata": {},
   "outputs": [],
   "source": [
    "np.save(\"../../event_list_45_300_1\",half1)"
   ]
  },
  {
   "cell_type": "code",
   "execution_count": 14,
   "metadata": {},
   "outputs": [],
   "source": [
    "np.save(\"../../event_list_45_300_2\",half2)"
   ]
  },
  {
   "cell_type": "code",
   "execution_count": 15,
   "metadata": {},
   "outputs": [],
   "source": [
    "arr = np.asarray(final_list)"
   ]
  },
  {
   "cell_type": "code",
   "execution_count": 16,
   "metadata": {},
   "outputs": [
    {
     "data": {
      "text/plain": [
       "array([ Int64Index([ 6538679,  6538969,  6538972,  6538973,  6557491,  6582914,\n",
       "             6603800,  6603801,  6603830,  6631819,\n",
       "            ...\n",
       "            14953598, 14985389, 14985513, 15019120, 15019990, 15075864,\n",
       "            15109821, 15210363,  7199504,  6539020],\n",
       "           dtype='int64', length=816),\n",
       "       Int64Index([ 6537407,  6537408,  6537461,  6537496,  6556862,  6557471,\n",
       "             6567063,  6582616,  6582627,  6617399,\n",
       "            ...\n",
       "            14920940, 11987213,  8636318,  9099425,  6581862, 11495869,\n",
       "            11521799, 10622110, 11462986, 11549388],\n",
       "           dtype='int64', length=1075),\n",
       "       Int64Index([ 2993813,  3046952,  3089260,  3101086,  3111588,  5304695,\n",
       "             5329299,  5640237,  5640839,  5645237,\n",
       "            ...\n",
       "            12997710, 13180690, 10683535, 10491419, 10522662, 13767835,\n",
       "            12244837,  9454160,  7306605,  7398068],\n",
       "           dtype='int64', length=1696),\n",
       "       ...,\n",
       "       Int64Index([ 6541195,  6541209,  6541210,  6541211,  6541212,  6541214,\n",
       "             6541216,  6541217,  6541218,  6541220,\n",
       "            ...\n",
       "            15078718, 15078719, 15078720, 15078724, 15078727, 15078742,\n",
       "            15078743, 15211976, 12217494, 10625399],\n",
       "           dtype='int64', length=1153),\n",
       "       Int64Index([ 6541447,  6618139,  6876494,  7405816,  7422345,  7452796,\n",
       "             7572882,  7749656,  8542318,  8670957,  8789530,  8789559,\n",
       "             8835436,  9133654,  9205693,  9205699,  9423515,  9423516,\n",
       "             9849300, 10109404, 10133628, 10133630, 10248224, 10248245,\n",
       "            10392281, 10392291, 10392293, 10392296, 10445071, 10470808,\n",
       "            10498849, 10530664, 10659293, 10659294, 10659314, 10768643,\n",
       "            10790026, 10824936, 10893644, 10987351, 11108499, 11189735,\n",
       "            11356469, 11356471, 11524489, 11704788, 11729954, 12104177,\n",
       "            12104178, 12104185, 12104187, 12104190, 12104192, 12104198,\n",
       "            12104201, 12104202, 12125724, 12155088, 12155089, 12155091,\n",
       "            12155092, 12270240, 12270268, 12392165, 12414543, 12529462,\n",
       "            12813482, 12929627, 13068750, 13167281, 13209995, 13238051,\n",
       "            13268750, 13329383, 13517089, 13517091, 13517094, 13544632,\n",
       "            13544634, 13788997, 13788998, 13890721, 14166083, 14305761,\n",
       "            14393837, 14707902, 15041624, 15319336, 15319337,  7314457],\n",
       "           dtype='int64'),\n",
       "       Int64Index([ 6652092,  6697159,  6697160,  7948385,  8230145,  8620847,\n",
       "             8729384,  9205698,  9457458,  9457459,  9548540, 10051202,\n",
       "            10188361, 10188362, 10188363, 10188364, 10188365, 10392282,\n",
       "            10411301, 10444266, 11138139, 11221934, 11567420, 12184634,\n",
       "            12184639, 12491355, 12505097, 12505099, 12505102, 12505114,\n",
       "            12505118, 12505122, 12505125, 12505126, 12630243, 12630632,\n",
       "            12711317, 12711318, 12892859, 12929633, 12957126, 13344181,\n",
       "            13344183, 14269280, 14865538, 14876964, 15041623, 15079183],\n",
       "           dtype='int64')], dtype=object)"
      ]
     },
     "execution_count": 16,
     "metadata": {},
     "output_type": "execute_result"
    }
   ],
   "source": [
    "arr"
   ]
  },
  {
   "cell_type": "code",
   "execution_count": 18,
   "metadata": {},
   "outputs": [],
   "source": [
    "final_dict\n",
    "f = open('../../final_dict.pkl',\"wb\")\n",
    "pickle.dump(final_dict,f)\n",
    "f.close()"
   ]
  }
 ],
 "metadata": {
  "kernelspec": {
   "display_name": "Python 3.6 [python/3.6]",
   "language": "python",
   "name": "sys_python36"
  },
  "language_info": {
   "codemirror_mode": {
    "name": "ipython",
    "version": 3
   },
   "file_extension": ".py",
   "mimetype": "text/x-python",
   "name": "python",
   "nbconvert_exporter": "python",
   "pygments_lexer": "ipython3",
   "version": "3.6.3"
  }
 },
 "nbformat": 4,
 "nbformat_minor": 2
}
