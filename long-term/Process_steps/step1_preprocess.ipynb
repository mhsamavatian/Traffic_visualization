{
 "cells": [
  {
   "cell_type": "code",
   "execution_count": 1,
   "metadata": {},
   "outputs": [],
   "source": [
    "import argparse\n",
    "import os\n",
    "import sys\n",
    "import psutil\n",
    "import numpy as np\n",
    "import pandas as pd\n",
    "import matplotlib\n",
    "matplotlib.use('Agg')\n",
    "import matplotlib.pyplot as plt\n",
    "#from datetime import datetime\n",
    "import math\n",
    "from IPython.display import display\n",
    "from multiprocessing import cpu_count,Pool \n",
    "import multiprocessing\n",
    "from joblib import Parallel, delayed\n",
    "from orderedset import OrderedSet\n",
    "import datetime"
   ]
  },
  {
   "cell_type": "code",
   "execution_count": 2,
   "metadata": {},
   "outputs": [],
   "source": [
    "def print_memory_usage():\n",
    "    print (\"memory log:\")\n",
    "    process = psutil.Process(os.getpid())\n",
    "    print(\"%5.2f GB (RSS)\" % (process.memory_info().rss / 2**30))\n",
    "    print(\"%5.2f GB (VMS)\" % (process.memory_info().vms / 2**30))\n",
    "    print(\"%5.2f GB (Used)\" % (psutil.virtual_memory().used / 2**30))\n",
    "    print(\"%5.2f GB (Available)\" % (psutil.virtual_memory().available / 2**30))\n",
    "    print(\"%5.2f GB (Total)\" % (psutil.virtual_memory().total / 2**30))\n",
    "\n",
    "\n",
    "def days_between(data):\n",
    "    #print (multiprocessing.current_process())\n",
    "    data['duration'] = abs((data.EndTime - data.StartTime).astype('timedelta64[s]')/60)\n",
    "    return data\n",
    "\n",
    "def type_modif(data):\n",
    "    #created = multiprocessing.Process()\n",
    "    #print ('created:', created.name, created._identity)\n",
    "    #print (\"Process created\")\n",
    "    data['RefinedType'] = data.RefinedType_.apply(lambda x: x.split('-')[0])\n",
    "    return data\n",
    "\n",
    "def State_set(data,map):\n",
    "    #mask = (data.Type == 'W')\n",
    "    #z_valid = data[mask]\n",
    "    data['City']=data.apply(lambda row: map[row['AirportCode']]['City'] if (row['Type']=='W' and row['AirportCode'] in map.keys()) else row['City'],axis=1)\n",
    "    data['State']=data.apply(lambda row: map[row['AirportCode']]['State'] if (row['Type']=='W' and row['AirportCode'] in map.keys()) else row['State'],axis=1)\n",
    "    return data\n",
    "\n",
    "class WithExtraArgs(object):\n",
    "    def __init__(self, func, **args):\n",
    "        self.func = func\n",
    "        self.args = args\n",
    "    def __call__(self, df):\n",
    "        return self.func(df, **self.args)\n",
    "\n",
    "def applyParallel(pool,data, func, kwargs):\n",
    "    data_split = np.array_split(data, min(partitions,data.shape[0]))\n",
    "    data = pd.concat(pool.map(WithExtraArgs(func, **kwargs), data_split))\n",
    "    return data\n",
    "\n",
    "def parallelize(data, func,pool):\n",
    "    data_split = np.array_split(data, partitions)\n",
    "    data = pd.concat(pool.map(func, data_split))\n",
    "    return data\n"
   ]
  },
  {
   "cell_type": "code",
   "execution_count": 3,
   "metadata": {},
   "outputs": [
    {
     "name": "stdout",
     "output_type": "stream",
     "text": [
      "number of cores 28\n"
     ]
    },
    {
     "name": "stderr",
     "output_type": "stream",
     "text": [
      "/usr/local/anaconda5/lib/python3.6/site-packages/IPython/core/interactiveshell.py:2698: DtypeWarning: Columns (10,11,12,13,14) have mixed types. Specify dtype option on import or set low_memory=False.\n",
      "  interactivity=interactivity, compiler=compiler, result=result)\n"
     ]
    }
   ],
   "source": [
    "filepath = '../../AllEvents_Aug2016-Aug2018.csv'\n",
    "raduis = 14 # mi\n",
    "\n",
    "cores = cpu_count() #Number of CPU cores on your system\n",
    "partitions = cores #Define as many partitions as you want\n",
    "print (\"number of cores \"+str(partitions))\n",
    "\n",
    "#load data\n",
    "use_cols=['EventId','Type',\t'RefinedType_',\t'StartTime'\t\n",
    "    ,'EndTime',\t'LocationLat',\t'LocationLng',\t'Distance(mi)'\t\n",
    "    ,'AirportCode',\t'Number',\t'Street',\t'Side',\t'City',\t'County'\t\n",
    "    ,'State',\t'ZipCode']\n",
    "\n",
    "data_set = pd.read_csv(filepath,low_memory=True)\n",
    "data_set.columns = use_cols"
   ]
  },
  {
   "cell_type": "code",
   "execution_count": 4,
   "metadata": {},
   "outputs": [
    {
     "name": "stdout",
     "output_type": "stream",
     "text": [
      "Data set is loaded\n",
      "memory log:\n",
      " 5.68 GB (RSS)\n",
      " 6.43 GB (VMS)\n",
      " 8.95 GB (Used)\n",
      "116.13 GB (Available)\n",
      "125.81 GB (Total)\n"
     ]
    }
   ],
   "source": [
    "data_set.StartTime = pd.to_datetime(data_set.StartTime, format=\"%Y-%m-%d %H:%M:%S\", errors='coerce')\n",
    "data_set.EndTime = pd.to_datetime(data_set.EndTime, format=\"%Y-%m-%d %H:%M:%S\", errors='coerce')\n",
    "data_set = data_set.drop(data_set[data_set.StartTime.isnull()].index)\n",
    "data_set = data_set.drop(data_set[data_set.EndTime.isnull()].index)\n",
    "\n",
    "print (\"Data set is loaded\")\n",
    "print_memory_usage()"
   ]
  },
  {
   "cell_type": "code",
   "execution_count": 5,
   "metadata": {},
   "outputs": [],
   "source": [
    "airport_mappath=\"../../AirportToCityState.csv\"\n",
    "airport_df = pd.read_csv(airport_mappath,low_memory=True)\n",
    "airport_df['State'] = airport_df.CityState.apply(lambda x: x.split('-')[1])\n",
    "airport_df['City'] = airport_df.CityState.apply(lambda x: x.split('-')[0])\n",
    "airport_df = airport_df.set_index('Airport')\n",
    "airport_df = airport_df[['State','City']]\n",
    "airport_map = airport_df.to_dict('index')"
   ]
  },
  {
   "cell_type": "code",
   "execution_count": 6,
   "metadata": {},
   "outputs": [
    {
     "name": "stdout",
     "output_type": "stream",
     "text": [
      "set state-city for weather events\n",
      "setting state-city for weather events done\n",
      "********************************************************************************\n"
     ]
    }
   ],
   "source": [
    "print (\"set state-city for weather events\")\n",
    "pool = Pool(cores)\n",
    "data_set = applyParallel (pool, data_set, State_set,{'map':airport_map.copy()})\n",
    "pool.close()\n",
    "pool.join()\n",
    "print (\"setting state-city for weather events done\")\n",
    "print (\"*\"*80)"
   ]
  },
  {
   "cell_type": "code",
   "execution_count": 7,
   "metadata": {},
   "outputs": [
    {
     "data": {
      "text/plain": [
       "(2128, 16)"
      ]
     },
     "metadata": {},
     "output_type": "display_data"
    },
    {
     "data": {
      "text/plain": [
       "(0, 16)"
      ]
     },
     "metadata": {},
     "output_type": "display_data"
    }
   ],
   "source": [
    "invalid_entity = data_set[data_set.City.isnull() | data_set.State.isnull()]\n",
    "display(invalid_entity.shape)\n",
    "data_set = data_set.drop(invalid_entity.index)\n",
    "invalid_entity = data_set[data_set.City.isnull() | data_set.State.isnull()]\n",
    "display(invalid_entity.shape)\n",
    "#data_set = data_set.reset_index()"
   ]
  },
  {
   "cell_type": "code",
   "execution_count": 8,
   "metadata": {},
   "outputs": [
    {
     "name": "stdout",
     "output_type": "stream",
     "text": [
      "modify start end time type\n",
      "type modification for start_end time is done\n",
      "********************************************************************************\n"
     ]
    }
   ],
   "source": [
    "print (\"modify start end time type\")\n",
    "pool = Pool(cores)\n",
    "data_set = parallelize (data_set,type_modif,pool)\n",
    "pool.close()\n",
    "pool.join()\n",
    "print (\"type modification for start_end time is done\")\n",
    "print (\"*\"*80)"
   ]
  },
  {
   "cell_type": "code",
   "execution_count": 9,
   "metadata": {},
   "outputs": [
    {
     "name": "stdout",
     "output_type": "stream",
     "text": [
      "compute the duration of events\n",
      "memory log:\n",
      " 6.77 GB (RSS)\n",
      " 7.64 GB (VMS)\n",
      "10.10 GB (Used)\n",
      "114.98 GB (Available)\n",
      "125.81 GB (Total)\n",
      "duration computation is done\n"
     ]
    }
   ],
   "source": [
    "print (\"compute the duration of events\")\n",
    "pool = Pool(cores)\n",
    "data_set = parallelize (data_set,days_between,pool)#traffic_events.apply(days_between,axis=1)\n",
    "pool.close()\n",
    "pool.join()\n",
    "#display(data_set)\n",
    "print_memory_usage()\n",
    "print (\"duration computation is done\")"
   ]
  },
  {
   "cell_type": "code",
   "execution_count": 10,
   "metadata": {},
   "outputs": [
    {
     "name": "stdout",
     "output_type": "stream",
     "text": [
      "summary of duration:\n"
     ]
    },
    {
     "data": {
      "text/plain": [
       "count    1.532509e+07\n",
       "mean     2.764785e+02\n",
       "std      1.051573e+04\n",
       "min      0.000000e+00\n",
       "25%      2.978333e+01\n",
       "50%      4.281667e+01\n",
       "75%      5.010000e+01\n",
       "max      1.209753e+07\n",
       "Name: duration, dtype: float64"
      ]
     },
     "metadata": {},
     "output_type": "display_data"
    },
    {
     "name": "stdout",
     "output_type": "stream",
     "text": [
      "********************************************************************************\n"
     ]
    },
    {
     "name": "stderr",
     "output_type": "stream",
     "text": [
      "/usr/local/anaconda5/lib/python3.6/site-packages/pandas/core/generic.py:3110: SettingWithCopyWarning: \n",
      "A value is trying to be set on a copy of a slice from a DataFrame.\n",
      "Try using .loc[row_indexer,col_indexer] = value instead\n",
      "\n",
      "See the caveats in the documentation: http://pandas.pydata.org/pandas-docs/stable/indexing.html#indexing-view-versus-copy\n",
      "  self[name] = value\n"
     ]
    }
   ],
   "source": [
    "print (\"summary of duration:\")\n",
    "summary = data_set.duration.describe()\n",
    "display(summary)\n",
    "print (\"*\"*80)\n",
    "\n",
    "\n",
    "data_histo = data_set[np.abs(data_set.duration-data_set.duration.mean())<=(10*data_set.duration.std())] \n",
    "data_histo.duration/=60\n",
    "fig, ax = plt.subplots()\n",
    "data_histo.duration.hist(ax=ax, bins=100, bottom=0.1)\n",
    "ax.set_yscale('log')\n",
    "plt.xlabel('event duration in hour')\n",
    "plt.ylabel('log scale events count')\n",
    "plt.title('Event Duration Distribution')\n",
    "plt.savefig('all_event_du_dist.png')"
   ]
  },
  {
   "cell_type": "code",
   "execution_count": 11,
   "metadata": {},
   "outputs": [
    {
     "name": "stdout",
     "output_type": "stream",
     "text": [
      "events type:\n"
     ]
    },
    {
     "data": {
      "text/html": [
       "<div>\n",
       "<style>\n",
       "    .dataframe thead tr:only-child th {\n",
       "        text-align: right;\n",
       "    }\n",
       "\n",
       "    .dataframe thead th {\n",
       "        text-align: left;\n",
       "    }\n",
       "\n",
       "    .dataframe tbody tr th {\n",
       "        vertical-align: top;\n",
       "    }\n",
       "</style>\n",
       "<table border=\"1\" class=\"dataframe\">\n",
       "  <thead>\n",
       "    <tr style=\"text-align: right;\">\n",
       "      <th></th>\n",
       "      <th>name</th>\n",
       "    </tr>\n",
       "    <tr>\n",
       "      <th>RefinedType</th>\n",
       "      <th></th>\n",
       "    </tr>\n",
       "  </thead>\n",
       "  <tbody>\n",
       "    <tr>\n",
       "      <th>Accident</th>\n",
       "      <td>1169481</td>\n",
       "    </tr>\n",
       "    <tr>\n",
       "      <th>Broken</th>\n",
       "      <td>308110</td>\n",
       "    </tr>\n",
       "    <tr>\n",
       "      <th>Congestion</th>\n",
       "      <td>10541613</td>\n",
       "    </tr>\n",
       "    <tr>\n",
       "      <th>Construction</th>\n",
       "      <td>209923</td>\n",
       "    </tr>\n",
       "    <tr>\n",
       "      <th>Event</th>\n",
       "      <td>32817</td>\n",
       "    </tr>\n",
       "    <tr>\n",
       "      <th>Incident</th>\n",
       "      <td>637478</td>\n",
       "    </tr>\n",
       "    <tr>\n",
       "      <th>Lane</th>\n",
       "      <td>246828</td>\n",
       "    </tr>\n",
       "    <tr>\n",
       "      <th>Other</th>\n",
       "      <td>1561</td>\n",
       "    </tr>\n",
       "    <tr>\n",
       "      <th>cold</th>\n",
       "      <td>67274</td>\n",
       "    </tr>\n",
       "    <tr>\n",
       "      <th>fog</th>\n",
       "      <td>454282</td>\n",
       "    </tr>\n",
       "    <tr>\n",
       "      <th>hail</th>\n",
       "      <td>1252</td>\n",
       "    </tr>\n",
       "    <tr>\n",
       "      <th>precipitation</th>\n",
       "      <td>19711</td>\n",
       "    </tr>\n",
       "    <tr>\n",
       "      <th>rain</th>\n",
       "      <td>1383828</td>\n",
       "    </tr>\n",
       "    <tr>\n",
       "      <th>snow</th>\n",
       "      <td>236070</td>\n",
       "    </tr>\n",
       "    <tr>\n",
       "      <th>storm</th>\n",
       "      <td>14862</td>\n",
       "    </tr>\n",
       "  </tbody>\n",
       "</table>\n",
       "</div>"
      ],
      "text/plain": [
       "                   name\n",
       "RefinedType            \n",
       "Accident        1169481\n",
       "Broken           308110\n",
       "Congestion     10541613\n",
       "Construction     209923\n",
       "Event             32817\n",
       "Incident         637478\n",
       "Lane             246828\n",
       "Other              1561\n",
       "cold              67274\n",
       "fog              454282\n",
       "hail               1252\n",
       "precipitation     19711\n",
       "rain            1383828\n",
       "snow             236070\n",
       "storm             14862"
      ]
     },
     "metadata": {},
     "output_type": "display_data"
    },
    {
     "name": "stderr",
     "output_type": "stream",
     "text": [
      "/usr/local/anaconda5/lib/python3.6/site-packages/pandas/core/generic.py:1299: PerformanceWarning: \n",
      "your performance may suffer as PyTables will pickle object types that it cannot\n",
      "map directly to c-types [inferred_type->mixed,key->block2_values] [items->['EventId', 'Type', 'RefinedType_', 'AirportCode', 'Street', 'Side', 'City', 'County', 'State', 'RefinedType']]\n",
      "\n",
      "  return pytables.to_hdf(path_or_buf, key, self, **kwargs)\n"
     ]
    },
    {
     "name": "stdout",
     "output_type": "stream",
     "text": [
      "dataset is saved\n"
     ]
    }
   ],
   "source": [
    "print (\"events type:\")\n",
    "d = data_set.groupby('RefinedType').size().to_frame(name='name')\n",
    "display(d)\n",
    "\n",
    "#save data_set \n",
    "data_set.to_hdf('../../data_set.h5',key='DS_new')\n",
    "print (\"dataset is saved\")"
   ]
  }
 ],
 "metadata": {
  "kernelspec": {
   "display_name": "Python 3.6 [python/3.6]",
   "language": "python",
   "name": "sys_python36"
  },
  "language_info": {
   "codemirror_mode": {
    "name": "ipython",
    "version": 3
   },
   "file_extension": ".py",
   "mimetype": "text/x-python",
   "name": "python",
   "nbconvert_exporter": "python",
   "pygments_lexer": "ipython3",
   "version": "3.6.3"
  }
 },
 "nbformat": 4,
 "nbformat_minor": 2
}
